{
 "cells": [
  {
   "cell_type": "markdown",
   "metadata": {
    "collapsed": true
   },
   "source": [
    "# Projet Spark - Logistic gradient descent in batch and minibatch"
   ]
  },
  {
   "cell_type": "markdown",
   "metadata": {},
   "source": [
    "## Victor Journe, Ludovic Lelievre"
   ]
  },
  {
   "cell_type": "markdown",
   "metadata": {},
   "source": [
    "This project deals with the implementation of the Logistic Gradient Descent in a distributed manner with **Spark**.\n",
    "A minibatch implementation is proposed as well. \n",
    "This notebook provides the Spark codes, whereas the repport gives the theorical justifications and the parallel architecture chosen."
   ]
  },
  {
   "cell_type": "code",
   "execution_count": 1,
   "metadata": {
    "collapsed": true
   },
   "outputs": [],
   "source": [
    "import pandas\n",
    "import datetime\n",
    "import numpy as np\n",
    "from sklearn.metrics import accuracy_score\n",
    "import os\n",
    "%matplotlib inline\n",
    "from matplotlib import pyplot as plt"
   ]
  },
  {
   "cell_type": "code",
   "execution_count": 2,
   "metadata": {
    "collapsed": true
   },
   "outputs": [],
   "source": [
    "PATH = \"/Users/ludoviclelievre/Dropbox/Docs Share/projet_spark/\""
   ]
  },
  {
   "cell_type": "code",
   "execution_count": null,
   "metadata": {
    "collapsed": true
   },
   "outputs": [],
   "source": [
    "PATH = \"C:\\Users\\KD5299\\Documents\\Dropbox\\Docs Share\\projet_spark/\""
   ]
  },
  {
   "cell_type": "code",
   "execution_count": 3,
   "metadata": {
    "collapsed": false
   },
   "outputs": [
    {
     "data": {
      "text/html": [
       "<div>\n",
       "<table border=\"1\" class=\"dataframe\">\n",
       "  <thead>\n",
       "    <tr style=\"text-align: right;\">\n",
       "      <th></th>\n",
       "      <th>100MW</th>\n",
       "      <th>100MW_-m08</th>\n",
       "      <th>100MW_m08</th>\n",
       "      <th>-300MW</th>\n",
       "      <th>-300MW_-m08</th>\n",
       "      <th>-300MW_m08</th>\n",
       "      <th>R2_D_P_tot_s2</th>\n",
       "      <th>R2_D_P_tot_m296</th>\n",
       "      <th>Max</th>\n",
       "      <th>Max_-m08</th>\n",
       "      <th>...</th>\n",
       "      <th>NRV_s2</th>\n",
       "      <th>NRV_s3</th>\n",
       "      <th>NRV_s4</th>\n",
       "      <th>NRV_m18</th>\n",
       "      <th>R2_I_P_tot_s2</th>\n",
       "      <th>R2_I_P_tot_m296</th>\n",
       "      <th>PPOS</th>\n",
       "      <th>hour</th>\n",
       "      <th>month</th>\n",
       "      <th>day</th>\n",
       "    </tr>\n",
       "  </thead>\n",
       "  <tbody>\n",
       "    <tr>\n",
       "      <th>2014-01-03 17:45:00</th>\n",
       "      <td>66.46</td>\n",
       "      <td>66.406667</td>\n",
       "      <td>64.925556</td>\n",
       "      <td>-156.7</td>\n",
       "      <td>-156.7</td>\n",
       "      <td>-156.7</td>\n",
       "      <td>22.77</td>\n",
       "      <td>20.568105</td>\n",
       "      <td>372.49</td>\n",
       "      <td>351.343333</td>\n",
       "      <td>...</td>\n",
       "      <td>16.322</td>\n",
       "      <td>86.499</td>\n",
       "      <td>147.100</td>\n",
       "      <td>62.027625</td>\n",
       "      <td>66.46</td>\n",
       "      <td>67.684842</td>\n",
       "      <td>110.11</td>\n",
       "      <td>17</td>\n",
       "      <td>1</td>\n",
       "      <td>4</td>\n",
       "    </tr>\n",
       "    <tr>\n",
       "      <th>2014-01-03 18:00:00</th>\n",
       "      <td>66.46</td>\n",
       "      <td>66.424444</td>\n",
       "      <td>65.231111</td>\n",
       "      <td>-156.7</td>\n",
       "      <td>-156.7</td>\n",
       "      <td>-156.7</td>\n",
       "      <td>22.77</td>\n",
       "      <td>20.544421</td>\n",
       "      <td>352.44</td>\n",
       "      <td>348.282222</td>\n",
       "      <td>...</td>\n",
       "      <td>111.153</td>\n",
       "      <td>16.322</td>\n",
       "      <td>86.499</td>\n",
       "      <td>84.259125</td>\n",
       "      <td>66.46</td>\n",
       "      <td>67.609053</td>\n",
       "      <td>140.25</td>\n",
       "      <td>18</td>\n",
       "      <td>1</td>\n",
       "      <td>4</td>\n",
       "    </tr>\n",
       "    <tr>\n",
       "      <th>2014-01-03 18:15:00</th>\n",
       "      <td>66.55</td>\n",
       "      <td>66.370000</td>\n",
       "      <td>65.546667</td>\n",
       "      <td>-156.7</td>\n",
       "      <td>-156.7</td>\n",
       "      <td>-156.7</td>\n",
       "      <td>22.77</td>\n",
       "      <td>20.454211</td>\n",
       "      <td>352.44</td>\n",
       "      <td>347.448889</td>\n",
       "      <td>...</td>\n",
       "      <td>177.231</td>\n",
       "      <td>111.153</td>\n",
       "      <td>16.322</td>\n",
       "      <td>105.984875</td>\n",
       "      <td>66.46</td>\n",
       "      <td>67.502316</td>\n",
       "      <td>140.25</td>\n",
       "      <td>18</td>\n",
       "      <td>1</td>\n",
       "      <td>4</td>\n",
       "    </tr>\n",
       "    <tr>\n",
       "      <th>2014-01-03 18:30:00</th>\n",
       "      <td>65.86</td>\n",
       "      <td>66.084444</td>\n",
       "      <td>65.785556</td>\n",
       "      <td>-156.7</td>\n",
       "      <td>-156.7</td>\n",
       "      <td>-156.7</td>\n",
       "      <td>21.54</td>\n",
       "      <td>20.419158</td>\n",
       "      <td>352.44</td>\n",
       "      <td>346.615556</td>\n",
       "      <td>...</td>\n",
       "      <td>208.363</td>\n",
       "      <td>177.231</td>\n",
       "      <td>111.153</td>\n",
       "      <td>129.275125</td>\n",
       "      <td>66.46</td>\n",
       "      <td>67.344421</td>\n",
       "      <td>140.25</td>\n",
       "      <td>18</td>\n",
       "      <td>1</td>\n",
       "      <td>4</td>\n",
       "    </tr>\n",
       "    <tr>\n",
       "      <th>2014-01-03 18:45:00</th>\n",
       "      <td>66.55</td>\n",
       "      <td>65.875556</td>\n",
       "      <td>66.101111</td>\n",
       "      <td>-156.7</td>\n",
       "      <td>-156.7</td>\n",
       "      <td>-156.7</td>\n",
       "      <td>21.54</td>\n",
       "      <td>20.382105</td>\n",
       "      <td>352.44</td>\n",
       "      <td>345.782222</td>\n",
       "      <td>...</td>\n",
       "      <td>213.468</td>\n",
       "      <td>208.363</td>\n",
       "      <td>177.231</td>\n",
       "      <td>130.510375</td>\n",
       "      <td>66.55</td>\n",
       "      <td>67.188947</td>\n",
       "      <td>140.25</td>\n",
       "      <td>18</td>\n",
       "      <td>1</td>\n",
       "      <td>4</td>\n",
       "    </tr>\n",
       "  </tbody>\n",
       "</table>\n",
       "<p>5 rows × 55 columns</p>\n",
       "</div>"
      ],
      "text/plain": [
       "                     100MW  100MW_-m08  100MW_m08  -300MW  -300MW_-m08  \\\n",
       "2014-01-03 17:45:00  66.46   66.406667  64.925556  -156.7       -156.7   \n",
       "2014-01-03 18:00:00  66.46   66.424444  65.231111  -156.7       -156.7   \n",
       "2014-01-03 18:15:00  66.55   66.370000  65.546667  -156.7       -156.7   \n",
       "2014-01-03 18:30:00  65.86   66.084444  65.785556  -156.7       -156.7   \n",
       "2014-01-03 18:45:00  66.55   65.875556  66.101111  -156.7       -156.7   \n",
       "\n",
       "                     -300MW_m08  R2_D_P_tot_s2  R2_D_P_tot_m296     Max  \\\n",
       "2014-01-03 17:45:00      -156.7          22.77        20.568105  372.49   \n",
       "2014-01-03 18:00:00      -156.7          22.77        20.544421  352.44   \n",
       "2014-01-03 18:15:00      -156.7          22.77        20.454211  352.44   \n",
       "2014-01-03 18:30:00      -156.7          21.54        20.419158  352.44   \n",
       "2014-01-03 18:45:00      -156.7          21.54        20.382105  352.44   \n",
       "\n",
       "                       Max_-m08 ...    NRV_s2   NRV_s3   NRV_s4     NRV_m18  \\\n",
       "2014-01-03 17:45:00  351.343333 ...    16.322   86.499  147.100   62.027625   \n",
       "2014-01-03 18:00:00  348.282222 ...   111.153   16.322   86.499   84.259125   \n",
       "2014-01-03 18:15:00  347.448889 ...   177.231  111.153   16.322  105.984875   \n",
       "2014-01-03 18:30:00  346.615556 ...   208.363  177.231  111.153  129.275125   \n",
       "2014-01-03 18:45:00  345.782222 ...   213.468  208.363  177.231  130.510375   \n",
       "\n",
       "                     R2_I_P_tot_s2  R2_I_P_tot_m296    PPOS  hour  month  day  \n",
       "2014-01-03 17:45:00          66.46        67.684842  110.11    17      1    4  \n",
       "2014-01-03 18:00:00          66.46        67.609053  140.25    18      1    4  \n",
       "2014-01-03 18:15:00          66.46        67.502316  140.25    18      1    4  \n",
       "2014-01-03 18:30:00          66.46        67.344421  140.25    18      1    4  \n",
       "2014-01-03 18:45:00          66.55        67.188947  140.25    18      1    4  \n",
       "\n",
       "[5 rows x 55 columns]"
      ]
     },
     "execution_count": 3,
     "metadata": {},
     "output_type": "execute_result"
    }
   ],
   "source": [
    "# data base importation\n",
    "df = pandas.read_csv(os.path.join(PATH,\"ds_spark.txt\"), sep=\",\", encoding=\"utf-8\", index_col=0,parse_dates=True)\n",
    "df.head()"
   ]
  },
  {
   "cell_type": "markdown",
   "metadata": {},
   "source": [
    "The histogram below depicts the market price ditribution across 3 years of history. The two classes that we want to classify are the two modes of the distribution "
   ]
  },
  {
   "cell_type": "code",
   "execution_count": 4,
   "metadata": {
    "collapsed": false
   },
   "outputs": [
    {
     "data": {
      "text/plain": [
       "<matplotlib.axes._subplots.AxesSubplot at 0x10ef40a20>"
      ]
     },
     "execution_count": 4,
     "metadata": {},
     "output_type": "execute_result"
    },
    {
     "data": {
      "image/png": "[encoded data removed]",
      "text/plain": [
       "<matplotlib.figure.Figure at 0x109f155c0>"
      ]
     },
     "metadata": {},
     "output_type": "display_data"
    }
   ],
   "source": [
    "# histogramme prix a la baisse/prix a la hausse\n",
    "(df['PPOS']-df['BELIX PRICE']).hist(range = (-200, 200), bins=500, edgecolor = 'b')"
   ]
  },
  {
   "cell_type": "code",
   "execution_count": 5,
   "metadata": {
    "collapsed": false
   },
   "outputs": [],
   "source": [
    "# Creation of the constant = 1\n",
    "df['constante'] = 1\n",
    "# on cree la variable target: 0 = prix a la baisse; 1 = prix à la hausse\n",
    "df['target'] = ((df['PPOS']-df['BELIX PRICE']) > 0)*1 \n",
    "# on supprime la variable 'PPOS' du dataframe\n",
    "df = df.drop('PPOS',axis=1)"
   ]
  },
  {
   "cell_type": "code",
   "execution_count": 7,
   "metadata": {
    "collapsed": false
   },
   "outputs": [
    {
     "name": "stdout",
     "output_type": "stream",
     "text": [
      "target = 0 dans train set:  35328\n",
      "target = 1 dans train set:  33589\n",
      "target = 0 dans test set:  14049\n",
      "target = 1 dans test set:  11200\n"
     ]
    }
   ],
   "source": [
    "# target number in train and test\n",
    "# train set\n",
    "train_set = df[df.index<datetime.datetime(2016,1,1)]\n",
    "print('target = 0 dans train set: ',sum(train_set['target']==0))\n",
    "print('target = 1 dans train set: ',sum(train_set['target']==1))\n",
    "# test set\n",
    "test_set = df[df.index>=datetime.datetime(2016,1,1)]\n",
    "print('target = 0 dans test set: ',sum(test_set['target']==0))\n",
    "print('target = 1 dans test set: ',sum(test_set['target']==1))"
   ]
  },
  {
   "cell_type": "code",
   "execution_count": null,
   "metadata": {
    "collapsed": true
   },
   "outputs": [],
   "source": [
    "from sklearn import preprocessing\n",
    "# scaling of input du train_set\n",
    "dim = train_set.shape[1]-2\n",
    "scaler = preprocessing.StandardScaler().fit(train_set[range(0,dim)])\n",
    "train_set[range(0,dim)] = scaler.transform(train_set[range(0,dim)])\n",
    "# on utilise la meme transformation sur les inputs du test_set\n",
    "test_set[range(0,dim)] = scaler.transform(test_set[range(0,dim)])"
   ]
  },
  {
   "cell_type": "code",
   "execution_count": 7,
   "metadata": {
    "collapsed": false
   },
   "outputs": [],
   "source": [
    "# index change\n",
    "train_set.reset_index(drop=True, inplace=True)\n",
    "test_set.reset_index(drop=True, inplace=True)"
   ]
  },
  {
   "cell_type": "code",
   "execution_count": 8,
   "metadata": {
    "collapsed": false
   },
   "outputs": [],
   "source": [
    "# dataframes saving without columns name\n",
    "train_set.to_csv(os.path.join(PATH,\"rdd_train.txt\"),sep=\";\", encoding=\"utf-8\", index=True, header=None)\n",
    "test_set.to_csv(os.path.join(PATH,\"rdd_test.txt\"),sep=\";\", encoding=\"utf-8\", index=True, header=None)"
   ]
  },
  {
   "cell_type": "code",
   "execution_count": 8,
   "metadata": {
    "collapsed": false
   },
   "outputs": [
    {
     "data": {
      "text/plain": [
       "['0;0.382353466831;0.390549001546;0.254153021506;-0.985481847205;-1.07535007251;-1.07541225434;0.629701841912;0.477208130853;-0.0595048720004;-0.0630483280877;-0.0629883762354;0.629746144603;0.819810924445;0.794148292457;-0.329721368809;-0.26414752119;-0.552103012176;-0.288043399569;-2.15555865876;-0.0228934408005;-0.0316498727045;-0.0316463471013;0.445328436201;0.447077116971;0.462301900044;0.173489418499;0.366086618232;0.00763729138891;-0.425790210066;-0.495864809359;-0.495842885975;0.632906587889;0.632906587889;0.626913583653;0.5984872661;0.532055210379;5.17249285239e-19;0.574299291037;0.572886939901;0.509520317945;0.509524720346;0.541056526614;0.248774175336;0.318768488467;0.958626401926;0.164792404751;0.752241790588;1.25951363046;0.704543829175;0.382360477503;0.575154998737;0.791668679539;-1.61660884298;0.498648010911;1;1']"
      ]
     },
     "execution_count": 8,
     "metadata": {},
     "output_type": "execute_result"
    }
   ],
   "source": [
    "# RDD creation\n",
    "rdd_train = sc.textFile(os.path.join(PATH,\"rdd_train.txt\"))\n",
    "rdd_test = sc.textFile(os.path.join(PATH,\"rdd_test.txt\"))\n",
    "rdd_train.take(1)"
   ]
  },
  {
   "cell_type": "markdown",
   "metadata": {},
   "source": [
    "# Batch Gradient Descent"
   ]
  },
  {
   "cell_type": "code",
   "execution_count": 9,
   "metadata": {
    "collapsed": true
   },
   "outputs": [],
   "source": [
    "from operator import add\n",
    "def logistic_funct(x):\n",
    "    return (1. / (1. + np.exp(-np.dot(wb.value,x))))\n",
    "def transform_rdd(row):\n",
    "    values = row.split(\";\")\n",
    "    index = values[0]\n",
    "    x = np.array([float(i) for i in values[1:-1]])\n",
    "    y = float(values[-1])\n",
    "    return index,x,y"
   ]
  },
  {
   "cell_type": "code",
   "execution_count": 10,
   "metadata": {
    "collapsed": true
   },
   "outputs": [],
   "source": [
    "def logistic_gradient(row):\n",
    "    x=row[1]\n",
    "    y=row[2]\n",
    "    lg = logistic_funct(x)\n",
    "    penal = np.append(wb.value[:-1],0)\n",
    "    return x*(lg-y)+0.1*penal"
   ]
  },
  {
   "cell_type": "code",
   "execution_count": 11,
   "metadata": {
    "collapsed": true
   },
   "outputs": [],
   "source": [
    "def get_confusion_matrix(row):\n",
    "    x=row[1]\n",
    "    y=row[2]\n",
    "    lg = logistic_funct(x)\n",
    "    pred = 1*(lg>0.5)\n",
    "    return (int(y),pred)"
   ]
  },
  {
   "cell_type": "code",
   "execution_count": 12,
   "metadata": {
    "collapsed": true
   },
   "outputs": [],
   "source": [
    "def cost_func(row):\n",
    "    x=row[1]\n",
    "    y= int(row[2])\n",
    "    lg = logistic_funct(x)\n",
    "    wx = np.dot(wb.value,x)\n",
    "    #return (1-y)*wx+np.log(1+np.exp(-wx))+0.1*np.dot(wb.value[:-1],wb.value[:-1])/2\n",
    "    return -(y*np.log(lg)+(1-y)*np.log(1-lg))"
   ]
  },
  {
   "cell_type": "code",
   "execution_count": 13,
   "metadata": {
    "collapsed": false
   },
   "outputs": [
    {
     "name": "stdout",
     "output_type": "stream",
     "text": [
      "niter:  0\n",
      "J_train: 0.6931\n",
      "J_test: 0.6931\n",
      "niter:  1\n",
      "J_train: 0.5752\n",
      "J_test: 0.5755\n",
      "niter:  2\n",
      "J_train: 0.5498\n",
      "J_test: 0.5595\n",
      "niter:  3\n",
      "J_train: 0.5425\n",
      "J_test: 0.5506\n",
      "niter:  4\n",
      "J_train: 0.5371\n",
      "J_test: 0.5478\n",
      "niter:  5\n",
      "J_train: 0.5333\n",
      "J_test: 0.5424\n",
      "niter:  6\n",
      "J_train: 0.5305\n",
      "J_test: 0.5406\n",
      "niter:  7\n",
      "J_train: 0.5284\n",
      "J_test: 0.5376\n",
      "niter:  8\n",
      "J_train: 0.5268\n",
      "J_test: 0.5365\n",
      "niter:  9\n",
      "J_train: 0.5255\n",
      "J_test: 0.5348\n",
      "niter:  10\n",
      "J_train: 0.5246\n",
      "J_test: 0.534\n",
      "niter:  11\n",
      "J_train: 0.5238\n",
      "J_test: 0.5331\n",
      "niter:  12\n",
      "J_train: 0.5232\n",
      "J_test: 0.5326\n",
      "niter:  13\n",
      "J_train: 0.5227\n",
      "J_test: 0.532\n",
      "niter:  14\n",
      "J_train: 0.5223\n",
      "J_test: 0.5317\n",
      "niter:  15\n",
      "J_train: 0.522\n",
      "J_test: 0.5313\n",
      "niter:  16\n",
      "J_train: 0.5218\n",
      "J_test: 0.5311\n",
      "niter:  17\n",
      "J_train: 0.5215\n",
      "J_test: 0.5309\n",
      "niter:  18\n",
      "J_train: 0.5214\n",
      "J_test: 0.5307\n",
      "niter:  19\n",
      "J_train: 0.5212\n",
      "J_test: 0.5306\n",
      "niter:  20\n",
      "J_train: 0.5211\n",
      "J_test: 0.5305\n",
      "niter:  21\n",
      "J_train: 0.521\n",
      "J_test: 0.5304\n",
      "niter:  22\n",
      "J_train: 0.521\n",
      "J_test: 0.5303\n",
      "niter:  23\n",
      "J_train: 0.5209\n",
      "J_test: 0.5302\n",
      "niter:  24\n",
      "J_train: 0.5209\n",
      "J_test: 0.5302\n",
      "niter:  25\n",
      "J_train: 0.5208\n",
      "J_test: 0.5302\n",
      "niter:  26\n",
      "J_train: 0.5208\n",
      "J_test: 0.5301\n",
      "niter:  27\n",
      "J_train: 0.5207\n",
      "J_test: 0.5301\n",
      "niter:  28\n",
      "J_train: 0.5207\n",
      "J_test: 0.5301\n",
      "niter:  29\n",
      "J_train: 0.5207\n",
      "J_test: 0.5301\n",
      "Train set confusion matrix [((0, 0), 26891), ((1, 1), 24668), ((0, 1), 8437), ((1, 0), 8921)]\n",
      "Test set confusion matrix [((0, 0), 10701), ((1, 1), 7977), ((0, 1), 3348), ((1, 0), 3223)]\n"
     ]
    }
   ],
   "source": [
    "np.random.seed(1)\n",
    "niter = 30\n",
    "alpha = 1\n",
    "w = np.zeros(55)\n",
    "wb = sc.broadcast(w)\n",
    "num_train = 68917\n",
    "num_test = 25249\n",
    "history_cost = np.zeros((2,niter))\n",
    "rdd_train_trans = rdd_train.map(transform_rdd)\n",
    "rdd_test_trans = rdd_test.map(transform_rdd)\n",
    "\n",
    "for i in range(niter):\n",
    "    print('niter: ',i)\n",
    "    \n",
    "    # train set cost function\n",
    "    J_train = rdd_train_trans.map(cost_func).reduce(add)\n",
    "    J_train = (J_train + (0.1*np.dot(wb.value[:-1],wb.value[:-1])/2))/num_train\n",
    "    \n",
    "    # test set cost function\n",
    "    J_test = rdd_test_trans.map(cost_func).reduce(add)\n",
    "    J_test = (J_test + (0.1*np.dot(wb.value[:-1],wb.value[:-1])/2))/num_test\n",
    "    \n",
    "    # save cost\n",
    "    history_cost[:,i] = J_train, J_test\n",
    "    print(\"J_train: %.4g\" % J_train)\n",
    "    print(\"J_test: %.4g\" % J_test)\n",
    "\n",
    "    # compute gradient\n",
    "    grad = rdd_train_trans.map(lambda row: logistic_gradient(row))\\\n",
    "                    .reduce(lambda x1,x2: x1+x2)\n",
    "    grad = grad/num_train\n",
    "    \n",
    "    # update coef\n",
    "    w = w - alpha*grad\n",
    "    wb = sc.broadcast(w)\n",
    "   \n",
    "# score train_set\n",
    "score_train = rdd_train_trans.map(\n",
    "    lambda row: get_confusion_matrix(row)).map(\n",
    "    lambda kv:(kv,1)).reduceByKey(\n",
    "    lambda x, y: x + y) \n",
    "conf_mat_train = score_train.collect()\n",
    "print('Train set confusion matrix',conf_mat_train)\n",
    "\n",
    "# score test_set\n",
    "score_test = rdd_test_trans.map(\n",
    "    lambda row: get_confusion_matrix(row)).map(\n",
    "    lambda kv:(kv,1)).reduceByKey(\n",
    "    lambda x, y: x + y) \n",
    "conf_mat_test = score_test.collect()\n",
    "print('Test set confusion matrix',conf_mat_test)"
   ]
  },
  {
   "cell_type": "code",
   "execution_count": 14,
   "metadata": {
    "collapsed": false
   },
   "outputs": [
    {
     "data": {
      "text/plain": [
       "<matplotlib.legend.Legend at 0x1101932e8>"
      ]
     },
     "execution_count": 14,
     "metadata": {},
     "output_type": "execute_result"
    },
    {
     "data": {
      "image/png": "[encoded data removed]",
      "text/plain": [
       "<matplotlib.figure.Figure at 0x10461bb70>"
      ]
     },
     "metadata": {},
     "output_type": "display_data"
    }
   ],
   "source": [
    "# graph evolution de la cost function au cours des iterations\n",
    "fig = plt.figure(figsize=(8,6))\n",
    "ax1 = fig.add_subplot(111)\n",
    "ax1.plot(history_cost[0,:],color='g',marker='o',linestyle='dashed',label='Train set cost function')\n",
    "ax1.plot(history_cost[1,:],color='r',marker='o',linestyle='dashed',label='Test set cost function')\n",
    "\n",
    "ax1.set_xlim([0,30])\n",
    "ax1.set_ylim([0.5,0.7])\n",
    "ax1.set_xlabel('Number of iterations')\n",
    "ax1.set_ylabel('Cost function')\n",
    "ax1.set_title('Cost function across iterations')\n",
    "ax1.legend(loc='best')"
   ]
  },
  {
   "cell_type": "markdown",
   "metadata": {},
   "source": [
    "# Mini Batch Gradient Descent"
   ]
  },
  {
   "cell_type": "code",
   "execution_count": 15,
   "metadata": {
    "collapsed": false
   },
   "outputs": [],
   "source": [
    "from operator import add\n",
    "def change_index(row):\n",
    "    values = row.split(\";\")\n",
    "    index = np.random.randint(batch_size, size=1)[0]\n",
    "    values[0]=str(index)\n",
    "    return ';'.join(values)"
   ]
  },
  {
   "cell_type": "code",
   "execution_count": 16,
   "metadata": {
    "collapsed": true
   },
   "outputs": [],
   "source": [
    "def transform_rdd_mb(row):\n",
    "    values = row.split(\";\")\n",
    "    index = int(values[0])\n",
    "    x = np.array([float(i) for i in values[1:-1]])\n",
    "    y = float(values[-1])\n",
    "    return index,(x,y)"
   ]
  },
  {
   "cell_type": "code",
   "execution_count": 17,
   "metadata": {
    "collapsed": false
   },
   "outputs": [],
   "source": [
    "def logistic_funct_mb(x,w):\n",
    "    return (1. / (1. + np.exp(-np.dot(w,x))))\n",
    "def logistic_gradient_mb(row):\n",
    "    index=row[0]\n",
    "    x = row[1][0][0]\n",
    "    y = row[1][0][1]\n",
    "    w = row[1][1]\n",
    "    lg = logistic_funct_mb(x,w)\n",
    "    penal = np.append(w[:-1],0)\n",
    "    return (index,x*(lg-y)+0.1*penal)"
   ]
  },
  {
   "cell_type": "code",
   "execution_count": 18,
   "metadata": {
    "collapsed": false
   },
   "outputs": [],
   "source": [
    "def update_w(row):\n",
    "    index=row[0]\n",
    "    w=row[1][0]\n",
    "    grad=row[1][1]\n",
    "    update=w - (1)*grad\n",
    "    return (index,update)"
   ]
  },
  {
   "cell_type": "code",
   "execution_count": 19,
   "metadata": {
    "collapsed": true
   },
   "outputs": [],
   "source": [
    "def cost_func_mb(row):\n",
    "    index=row[0]\n",
    "    x=row[1][0]\n",
    "    y=int(row[1][1])\n",
    "    lg = logistic_funct_mb(x,wb.value)\n",
    "    return -(y*np.log(lg)+(1-y)*np.log(1-lg))"
   ]
  },
  {
   "cell_type": "code",
   "execution_count": 20,
   "metadata": {
    "collapsed": true
   },
   "outputs": [],
   "source": [
    "def get_confusion_matrix_mb(row):\n",
    "    x=row[1][0]\n",
    "    y=row[1][1]\n",
    "    lg = logistic_funct_mb(x, wb.value)\n",
    "    pred = 1*(lg>0.5)\n",
    "    return (int(y),pred)"
   ]
  },
  {
   "cell_type": "code",
   "execution_count": 21,
   "metadata": {
    "collapsed": false
   },
   "outputs": [
    {
     "name": "stdout",
     "output_type": "stream",
     "text": [
      "0\n",
      "J_train: 0.5752\n",
      "J_test: 0.5755\n",
      "1\n",
      "J_train: 0.5498\n",
      "J_test: 0.5595\n",
      "2\n",
      "J_train: 0.5425\n",
      "J_test: 0.5505\n",
      "3\n",
      "J_train: 0.5371\n",
      "J_test: 0.5477\n",
      "4\n",
      "J_train: 0.5333\n",
      "J_test: 0.5423\n",
      "5\n",
      "J_train: 0.5305\n",
      "J_test: 0.5405\n",
      "6\n",
      "J_train: 0.5284\n",
      "J_test: 0.5375\n",
      "7\n",
      "J_train: 0.5268\n",
      "J_test: 0.5365\n",
      "8\n",
      "J_train: 0.5255\n",
      "J_test: 0.5347\n",
      "9\n",
      "J_train: 0.5245\n",
      "J_test: 0.534\n",
      "10\n",
      "J_train: 0.5238\n",
      "J_test: 0.533\n",
      "11\n",
      "J_train: 0.5232\n",
      "J_test: 0.5325\n",
      "12\n",
      "J_train: 0.5227\n",
      "J_test: 0.532\n",
      "13\n",
      "J_train: 0.5223\n",
      "J_test: 0.5316\n",
      "14\n",
      "J_train: 0.522\n",
      "J_test: 0.5313\n",
      "15\n",
      "J_train: 0.5217\n",
      "J_test: 0.5311\n",
      "16\n",
      "J_train: 0.5215\n",
      "J_test: 0.5308\n",
      "17\n",
      "J_train: 0.5214\n",
      "J_test: 0.5308\n",
      "18\n",
      "J_train: 0.5212\n",
      "J_test: 0.5306\n",
      "19\n",
      "J_train: 0.5211\n",
      "J_test: 0.5304\n",
      "20\n",
      "J_train: 0.521\n",
      "J_test: 0.5304\n",
      "21\n",
      "J_train: 0.5209\n",
      "J_test: 0.5303\n",
      "22\n",
      "J_train: 0.5209\n",
      "J_test: 0.5302\n",
      "23\n",
      "J_train: 0.5208\n",
      "J_test: 0.5302\n",
      "24\n",
      "J_train: 0.5208\n",
      "J_test: 0.5301\n",
      "25\n",
      "J_train: 0.5208\n",
      "J_test: 0.5301\n",
      "26\n",
      "J_train: 0.5207\n",
      "J_test: 0.53\n",
      "27\n",
      "J_train: 0.5207\n",
      "J_test: 0.53\n",
      "28\n",
      "J_train: 0.5207\n",
      "J_test: 0.53\n",
      "29\n",
      "J_train: 0.5206\n",
      "J_test: 0.53\n",
      "Train set confusion matrix [((0, 0), 26885), ((1, 1), 24666), ((0, 1), 8443), ((1, 0), 8923)]\n",
      "Test set confusion matrix [((0, 0), 10706), ((1, 1), 7974), ((0, 1), 3343), ((1, 0), 3226)]\n"
     ]
    }
   ],
   "source": [
    "np.random.seed(1)\n",
    "num_train = 68917\n",
    "num_test = 25249\n",
    "batch_size = 10\n",
    "niter = 30\n",
    "w_miniBatch = sc.parallelize([(batch, np.zeros(55)) for batch in range(batch_size)],2)\n",
    "history_cost = np.zeros((2,niter))\n",
    "rdd_train_miniBatch = rdd_train.map(change_index).map(transform_rdd_mb)\n",
    "rdd_test_miniBatch = rdd_test.map(change_index).map(transform_rdd_mb)\n",
    "\n",
    "for i in range(niter):\n",
    "    print(i)\n",
    "    rdd_xyw = rdd_train_miniBatch.join(w_miniBatch)\\\n",
    "                            .coalesce(2)\n",
    "    \n",
    "    # compute gradient for each minibatch\n",
    "    grad = rdd_xyw.map(logistic_gradient_mb)\\\n",
    "                  .mapValues(lambda v: (v, 1)) \\\n",
    "                  .reduceByKey(lambda a,b: (a[0]+b[0], a[1]+b[1])) \\\n",
    "                  .mapValues(lambda v: v[0]/v[1]) \n",
    "\n",
    "    # update coef\n",
    "    w_miniBatch = w_miniBatch.join(grad).map(update_w).coalesce(2)\n",
    "    \n",
    "    # compute average coef across minibatch\n",
    "    w_mean = w_miniBatch.map(lambda row: row[1]).mean()\n",
    "    wb = sc.broadcast(w_mean)\n",
    "    \n",
    "    # train set cost function\n",
    "    J_train = rdd_train_miniBatch.map(cost_func_mb).reduce(add)\n",
    "    J_train = (J_train + (0.1*np.dot(wb.value[:-1],wb.value[:-1])/2))/num_train\n",
    "    # test set cost function\n",
    "    J_test = rdd_test_miniBatch.map(cost_func_mb).reduce(add)\n",
    "    J_test = (J_test + (0.1*np.dot(wb.value[:-1],wb.value[:-1])/2))/num_test\n",
    "    \n",
    "    # save cost\n",
    "    history_cost[:,i] = J_train, J_test\n",
    "    print(\"J_train: %.4g\" % J_train)\n",
    "    print(\"J_test: %.4g\" % J_test)\n",
    "    \n",
    "# score train_set\n",
    "score_train = rdd_train_miniBatch.map(\n",
    "    lambda row: get_confusion_matrix_mb(row)).map(\n",
    "    lambda kv:(kv,1)).reduceByKey(\n",
    "    lambda x, y: x + y) \n",
    "conf_mat_train = score_train.collect()\n",
    "print('Train set confusion matrix',conf_mat_train)\n",
    "\n",
    "# score test_set\n",
    "score_test = rdd_test_miniBatch.map(\n",
    "    lambda row: get_confusion_matrix_mb(row)).map(\n",
    "    lambda kv:(kv,1)).reduceByKey(\n",
    "    lambda x, y: x + y) \n",
    "conf_mat_test = score_test.collect()\n",
    "print('Test set confusion matrix',conf_mat_test)"
   ]
  },
  {
   "cell_type": "code",
   "execution_count": 22,
   "metadata": {
    "collapsed": false
   },
   "outputs": [
    {
     "data": {
      "text/plain": [
       "<matplotlib.legend.Legend at 0x1109b7f98>"
      ]
     },
     "execution_count": 22,
     "metadata": {},
     "output_type": "execute_result"
    },
    {
     "data": {
      "image/png": "[encoded data removed]",
      "text/plain": [
       "<matplotlib.figure.Figure at 0x1102247f0>"
      ]
     },
     "metadata": {},
     "output_type": "display_data"
    }
   ],
   "source": [
    "# graph evolution de la cost function au cours des iterations\n",
    "fig = plt.figure(figsize=(8,6))\n",
    "ax1 = fig.add_subplot(111)\n",
    "ax1.plot(history_cost[0,:],color='g',marker='o',linestyle='dashed',label='Train set cost function')\n",
    "ax1.plot(history_cost[1,:],color='r',marker='o',linestyle='dashed',label='Test set cost function')\n",
    "\n",
    "ax1.set_xlim([0,30])\n",
    "ax1.set_ylim([0.5,0.6])\n",
    "ax1.set_xlabel('Number of iterations')\n",
    "ax1.set_ylabel('Cost function')\n",
    "ax1.set_title('Cost function across iterations')\n",
    "ax1.legend(loc='best')"
   ]
  }
 ],
 "metadata": {
  "anaconda-cloud": {},
  "kernelspec": {
   "display_name": "Python [Root]",
   "language": "python",
   "name": "Python [Root]"
  },
  "language_info": {
   "codemirror_mode": {
    "name": "ipython",
    "version": 2
   },
   "file_extension": ".py",
   "mimetype": "text/x-python",
   "name": "python",
   "nbconvert_exporter": "python",
   "pygments_lexer": "ipython2",
   "version": "2.7.11"
  }
 },
 "nbformat": 4,
 "nbformat_minor": 2
}
